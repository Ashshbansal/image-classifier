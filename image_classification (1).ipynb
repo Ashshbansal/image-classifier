{
 "cells": [
  {
   "cell_type": "markdown",
   "metadata": {},
   "source": [
    "# Image Classification\n",
    "In this project, you'll classify images from the [CIFAR-10 dataset](https://www.cs.toronto.edu/~kriz/cifar.html).  The dataset consists of airplanes, dogs, cats, and other objects. You'll preprocess the images, then train a convolutional neural network on all the samples. The images need to be normalized and the labels need to be one-hot encoded.  You'll get to apply what you learned and build a convolutional, max pooling, dropout, and fully connected layers.  At the end, you'll get to see your neural network's predictions on the sample images.\n",
    "## Get the Data\n",
    "Run the following cell to download the [CIFAR-10 dataset for python](https://www.cs.toronto.edu/~kriz/cifar-10-python.tar.gz)."
   ]
  },
  {
   "cell_type": "code",
   "execution_count": 6,
   "metadata": {},
   "outputs": [
    {
     "name": "stdout",
     "output_type": "stream",
     "text": [
      "All files found!\n"
     ]
    }
   ],
   "source": [
    "\"\"\"\n",
    "DON'T MODIFY ANYTHING IN THIS CELL THAT IS BELOW THIS LINE\n",
    "\"\"\"\n",
    "from urllib.request import urlretrieve\n",
    "from os.path import isfile, isdir\n",
    "from tqdm import tqdm\n",
    "import problem_unittests as tests\n",
    "import tarfile\n",
    "\n",
    "cifar10_dataset_folder_path = 'cifar-10-batches-py'\n",
    "\n",
    "class DLProgress(tqdm):\n",
    "    last_block = 0\n",
    "\n",
    "    def hook(self, block_num=1, block_size=1, total_size=None):\n",
    "        self.total = total_size\n",
    "        self.update((block_num - self.last_block) * block_size)\n",
    "        self.last_block = block_num\n",
    "\n",
    "if not isfile('cifar-10-python.tar.gz'):\n",
    "    with DLProgress(unit='B', unit_scale=True, miniters=1, desc='CIFAR-10 Dataset') as pbar:\n",
    "        urlretrieve(\n",
    "            'https://www.cs.toronto.edu/~kriz/cifar-10-python.tar.gz',\n",
    "            'cifar-10-python.tar.gz',\n",
    "            pbar.hook)\n",
    "\n",
    "if not isdir(cifar10_dataset_folder_path):\n",
    "    with tarfile.open('cifar-10-python.tar.gz') as tar:\n",
    "        tar.extractall()\n",
    "        tar.close()\n",
    "\n",
    "\n",
    "tests.test_folder_path(cifar10_dataset_folder_path)"
   ]
  },
  {
   "cell_type": "markdown",
   "metadata": {},
   "source": [
    "## Explore the Data\n",
    "The dataset is broken into batches to prevent your machine from running out of memory.  The CIFAR-10 dataset consists of 5 batches, named `data_batch_1`, `data_batch_2`, etc.. Each batch contains the labels and images that are one of the following:\n",
    "* airplane\n",
    "* automobile\n",
    "* bird\n",
    "* cat\n",
    "* deer\n",
    "* dog\n",
    "* frog\n",
    "* horse\n",
    "* ship\n",
    "* truck\n",
    "\n",
    "Understanding a dataset is part of making predictions on the data.  Play around with the code cell below by changing the `batch_id` and `sample_id`. The `batch_id` is the id for a batch (1-5). The `sample_id` is the id for a image and label pair in the batch.\n",
    "\n",
    "Ask yourself \"What are all possible labels?\", \"What is the range of values for the image data?\", \"Are the labels in order or random?\".  Answers to questions like these will help you preprocess the data and end up with better predictions."
   ]
  },
  {
   "cell_type": "code",
   "execution_count": 7,
   "metadata": {},
   "outputs": [
    {
     "name": "stdout",
     "output_type": "stream",
     "text": [
      "\n",
      "Stats of batch 1:\n",
      "Samples: 10000\n",
      "Label Counts: {0: 1005, 1: 974, 2: 1032, 3: 1016, 4: 999, 5: 937, 6: 1030, 7: 1001, 8: 1025, 9: 981}\n",
      "First 20 Labels: [6, 9, 9, 4, 1, 1, 2, 7, 8, 3, 4, 7, 7, 2, 9, 9, 9, 3, 2, 6]\n",
      "\n",
      "Example of Image 5:\n",
      "Image - Min Value: 0 Max Value: 252\n",
      "Image - Shape: (32, 32, 3)\n",
      "Label - Label Id: 1 Name: automobile\n"
     ]
    },
    {
     "data": {
      "image/png": "[encoded data removed]",
      "text/plain": [
       "<Figure size 432x288 with 1 Axes>"
      ]
     },
     "metadata": {
      "image/png": {
       "height": 250,
       "width": 253
      }
     },
     "output_type": "display_data"
    }
   ],
   "source": [
    "%matplotlib inline\n",
    "%config InlineBackend.figure_format = 'retina'\n",
    "\n",
    "import helper\n",
    "import numpy as np\n",
    "\n",
    "# Explore the dataset\n",
    "batch_id = 1\n",
    "sample_id = 5\n",
    "helper.display_stats(cifar10_dataset_folder_path, batch_id, sample_id)"
   ]
  },
  {
   "cell_type": "markdown",
   "metadata": {},
   "source": [
    "## Implement Preprocess Functions\n",
    "### Normalize\n",
    "In the cell below, implement the `normalize` function to take in image data, `x`, and return it as a normalized Numpy array. The values should be in the range of 0 to 1, inclusive.  The return object should be the same shape as `x`."
   ]
  },
  {
   "cell_type": "code",
   "execution_count": 8,
   "metadata": {},
   "outputs": [
    {
     "name": "stdout",
     "output_type": "stream",
     "text": [
      "Tests Passed\n"
     ]
    }
   ],
   "source": [
    "def normalize(x):\n",
    "    \"\"\"\n",
    "    Normalize a list of sample image data in the range of 0 to 1\n",
    "    : x: List of image data.  The image shape is (32, 32, 3)\n",
    "    : return: Numpy array of normalize data\n",
    "    \"\"\"   \n",
    "    # Allocate ndarray for normalized images.\n",
    "    normalized_x = np.zeros(tuple(x.shape))\n",
    "    nr_images = x.shape[0]\n",
    "    # Compute max/min values.\n",
    "    max_val, min_val = x.max(), x.min()\n",
    "    # Transform every image.\n",
    "    for image_index in range(nr_images):\n",
    "        normalized_x[image_index,...] = (x[image_index, ...] - float(min_val)) / float(max_val - min_val)    \n",
    "    return normalized_x\n",
    "\n",
    "\"\"\"\n",
    "DON'T MODIFY ANYTHING IN THIS CELL THAT IS BELOW THIS LINE\n",
    "\"\"\"\n",
    "tests.test_normalize(normalize)"
   ]
  },
  {
   "cell_type": "markdown",
   "metadata": {},
   "source": [
    "### One-hot encode\n",
    "Just like the previous code cell, you'll be implementing a function for preprocessing.  This time, you'll implement the `one_hot_encode` function. The input, `x`, are a list of labels.  Implement the function to return the list of labels as One-Hot encoded Numpy array.  The possible values for labels are 0 to 9. The one-hot encoding function should return the same encoding for each value between each call to `one_hot_encode`.  Make sure to save the map of encodings outside the function.\n",
    "\n",
    "**Hint:**\n",
    "\n",
    "Look into LabelBinarizer in the preprocessing module of sklearn."
   ]
  },
  {
   "cell_type": "code",
   "execution_count": 9,
   "metadata": {},
   "outputs": [
    {
     "name": "stdout",
     "output_type": "stream",
     "text": [
      "Tests Passed\n"
     ]
    }
   ],
   "source": [
    "def one_hot_encode(x, n_values=10):\n",
    "    \"\"\"\n",
    "    One hot encode a list of sample labels. Return a one-hot encoded vector for each label.\n",
    "    : x: List of sample Labels\n",
    "    : n_values: Number of Label categories.\n",
    "    : return: Numpy array of one-hot encoded labels\n",
    "    \"\"\"\n",
    "    # Let's use the One-Hot encoder method available in sklearn.\n",
    "    from sklearn.preprocessing import OneHotEncoder\n",
    "    enc = OneHotEncoder(n_values=n_values)    \n",
    "    one_hot_encoded_labels = enc.fit_transform(np.array(x).reshape(-1, 1)).toarray()\n",
    "    return one_hot_encoded_labels\n",
    "\n",
    "\"\"\"\n",
    "DON'T MODIFY ANYTHING IN THIS CELL THAT IS BELOW THIS LINE\n",
    "\"\"\"\n",
    "tests.test_one_hot_encode(one_hot_encode)"
   ]
  },
  {
   "cell_type": "markdown",
   "metadata": {},
   "source": [
    "### Randomize Data\n",
    "As you saw from exploring the data above, the order of the samples are randomized.  It doesn't hurt to randomize it again, but you don't need to for this dataset."
   ]
  },
  {
   "cell_type": "markdown",
   "metadata": {},
   "source": [
    "## Preprocess all the data and save it\n",
    "Running the code cell below will preprocess all the CIFAR-10 data and save it to file. The code below also uses 10% of the training data for validation."
   ]
  },
  {
   "cell_type": "code",
   "execution_count": 10,
   "metadata": {},
   "outputs": [],
   "source": [
    "\"\"\"\n",
    "DON'T MODIFY ANYTHING IN THIS CELL\n",
    "\"\"\"\n",
    "# Preprocess Training, Validation, and Testing Data\n",
    "helper.preprocess_and_save_data(cifar10_dataset_folder_path, normalize, one_hot_encode)"
   ]
  },
  {
   "cell_type": "markdown",
   "metadata": {},
   "source": [
    "# Check Point\n",
    "This is your first checkpoint.  If you ever decide to come back to this notebook or have to restart the notebook, you can start from here.  The preprocessed data has been saved to disk."
   ]
  },
  {
   "cell_type": "code",
   "execution_count": 12,
   "metadata": {},
   "outputs": [],
   "source": [
    "\"\"\"\n",
    "DON'T MODIFY ANYTHING IN THIS CELL\n",
    "\"\"\"\n",
    "import pickle\n",
    "import problem_unittests as tests\n",
    "import helper\n",
    "\n",
    "# Load the Preprocessed Validation data\n",
    "valid_features, valid_labels = pickle.load(open('preprocess_validation.p', mode='rb'))"
   ]
  },
  {
   "cell_type": "markdown",
   "metadata": {},
   "source": [
    "## Build the network\n",
    "For the neural network, you'll build each layer into a function.  Most of the code you've seen has been outside of functions. To test your code more thoroughly, we require that you put each layer in a function.  This allows us to give you better feedback and test for simple mistakes using our unittests before you submit your project.\n",
    "\n",
    ">**Note:** If you're finding it hard to dedicate enough time for this course each week, we've provided a small shortcut to this part of the project. In the next couple of problems, you'll have the option to use classes from the [TensorFlow Layers](https://www.tensorflow.org/api_docs/python/tf/layers) or [TensorFlow Layers (contrib)](https://www.tensorflow.org/api_guides/python/contrib.layers) packages to build each layer, except the layers you build in the \"Convolutional and Max Pooling Layer\" section.  TF Layers is similar to Keras's and TFLearn's abstraction to layers, so it's easy to pickup.\n",
    "\n",
    ">However, if you would like to get the most out of this course, try to solve all the problems _without_ using anything from the TF Layers packages. You **can** still use classes from other packages that happen to have the same name as ones you find in TF Layers! For example, instead of using the TF Layers version of the `conv2d` class, [tf.layers.conv2d](https://www.tensorflow.org/api_docs/python/tf/layers/conv2d), you would want to use the TF Neural Network version of `conv2d`, [tf.nn.conv2d](https://www.tensorflow.org/api_docs/python/tf/nn/conv2d). \n",
    "\n",
    "Let's begin!\n",
    "\n",
    "### Input\n",
    "The neural network needs to read the image data, one-hot encoded labels, and dropout keep probability. Implement the following functions\n",
    "* Implement `neural_net_image_input`\n",
    " * Return a [TF Placeholder](https://www.tensorflow.org/api_docs/python/tf/placeholder)\n",
    " * Set the shape using `image_shape` with batch size set to `None`.\n",
    " * Name the TensorFlow placeholder \"x\" using the TensorFlow `name` parameter in the [TF Placeholder](https://www.tensorflow.org/api_docs/python/tf/placeholder).\n",
    "* Implement `neural_net_label_input`\n",
    " * Return a [TF Placeholder](https://www.tensorflow.org/api_docs/python/tf/placeholder)\n",
    " * Set the shape using `n_classes` with batch size set to `None`.\n",
    " * Name the TensorFlow placeholder \"y\" using the TensorFlow `name` parameter in the [TF Placeholder](https://www.tensorflow.org/api_docs/python/tf/placeholder).\n",
    "* Implement `neural_net_keep_prob_input`\n",
    " * Return a [TF Placeholder](https://www.tensorflow.org/api_docs/python/tf/placeholder) for dropout keep probability.\n",
    " * Name the TensorFlow placeholder \"keep_prob\" using the TensorFlow `name` parameter in the [TF Placeholder](https://www.tensorflow.org/api_docs/python/tf/placeholder).\n",
    "\n",
    "These names will be used at the end of the project to load your saved model.\n",
    "\n",
    "Note: `None` for shapes in TensorFlow allow for a dynamic size."
   ]
  },
  {
   "cell_type": "code",
   "execution_count": 13,
   "metadata": {},
   "outputs": [
    {
     "name": "stdout",
     "output_type": "stream",
     "text": [
      "Image Input Tests Passed.\n",
      "Label Input Tests Passed.\n",
      "Keep Prob Tests Passed.\n"
     ]
    }
   ],
   "source": [
    "import tensorflow as tf\n",
    "\n",
    "\n",
    "\n",
    "\n",
    "def neural_net_image_input(image_shape):\n",
    "    \"\"\"\n",
    "    Return a Tensor for a batch of image input\n",
    "    : image_shape: Shape of the images\n",
    "    : return: Tensor for image input.\n",
    "    \"\"\"\n",
    "    # TODO: Implement Function\n",
    "    return tf.placeholder(tf.float32, shape=[None, \\\n",
    "                image_shape[0], image_shape[1], image_shape[2]], name='x')\n",
    "\n",
    "\n",
    "\n",
    "def neural_net_label_input(n_classes):\n",
    "    \"\"\"\n",
    "    Return a Tensor for a batch of label input\n",
    "    : n_classes: Number of classes\n",
    "    : return: Tensor for label input.\n",
    "    \"\"\"\n",
    "    # TODO: Implement Function\n",
    "    return tf.placeholder(tf.float32, shape=[None, n_classes], name='y')\n",
    "\n",
    "\n",
    "\n",
    "def neural_net_keep_prob_input():\n",
    "    \"\"\"\n",
    "    Return a Tensor for keep probability\n",
    "    : return: Tensor for keep probability.\n",
    "    \"\"\"\n",
    "    # TODO: Implement Function\n",
    "    return tf.placeholder(tf.float32, shape=(None), name='keep_prob')\n",
    "\n",
    "\n",
    "\"\"\"\n",
    "DON'T MODIFY ANYTHING IN THIS CELL THAT IS BELOW THIS LINE\n",
    "\"\"\"\n",
    "tf.reset_default_graph()\n",
    "tests.test_nn_image_inputs(neural_net_image_input)\n",
    "tests.test_nn_label_inputs(neural_net_label_input)\n",
    "tests.test_nn_keep_prob_inputs(neural_net_keep_prob_input)"
   ]
  },
  {
   "cell_type": "markdown",
   "metadata": {},
   "source": [
    "### Convolution and Max Pooling Layer\n",
    "Convolution layers have a lot of success with images. For this code cell, you should implement the function `conv2d_maxpool` to apply convolution then max pooling:\n",
    "* Create the weight and bias using `conv_ksize`, `conv_num_outputs` and the shape of `x_tensor`.\n",
    "* Apply a convolution to `x_tensor` using weight and `conv_strides`.\n",
    " * We recommend you use same padding, but you're welcome to use any padding.\n",
    "* Add bias\n",
    "* Add a nonlinear activation to the convolution.\n",
    "* Apply Max Pooling using `pool_ksize` and `pool_strides`.\n",
    " * We recommend you use same padding, but you're welcome to use any padding.\n",
    "\n",
    "**Note:** You **can't** use [TensorFlow Layers](https://www.tensorflow.org/api_docs/python/tf/layers) or [TensorFlow Layers (contrib)](https://www.tensorflow.org/api_guides/python/contrib.layers) for **this** layer, but you can still use TensorFlow's [Neural Network](https://www.tensorflow.org/api_docs/python/tf/nn) package. You may still use the shortcut option for all the **other** layers.\n",
    "\n",
    "** Hint: **\n",
    "\n",
    "When unpacking values as an argument in Python, look into the [unpacking](https://docs.python.org/3/tutorial/controlflow.html#unpacking-argument-lists) operator. "
   ]
  },
  {
   "cell_type": "code",
   "execution_count": 14,
   "metadata": {},
   "outputs": [
    {
     "name": "stdout",
     "output_type": "stream",
     "text": [
      "Tests Passed\n"
     ]
    }
   ],
   "source": [
    "def conv2d_maxpool(x_tensor, conv_num_outputs, conv_ksize, conv_strides, pool_ksize, pool_strides):\n",
    "    \"\"\"\n",
    "    Apply convolution then max pooling to x_tensor\n",
    "    :param x_tensor: TensorFlow Tensor\n",
    "    :param conv_num_outputs: Number of outputs for the convolutional layer\n",
    "    :param conv_ksize: kernal size 2-D Tuple for the convolutional layer\n",
    "    :param conv_strides: Stride 2-D Tuple for convolution\n",
    "    :param pool_ksize: kernal size 2-D Tuple for pool\n",
    "    :param pool_strides: Stride 2-D Tuple for pool\n",
    "    : return: A tensor that represents convolution and max pooling of x_tensor\n",
    "    \"\"\"\n",
    "     # Grabbing the shape for the input tensor\n",
    "    iheight = int(x_tensor.shape[1])\n",
    "    iwidth = int(x_tensor.shape[2])\n",
    "    idepth = int(x_tensor.shape[3])\n",
    "    # Grabbing the shape for the convolutional filter \n",
    "    fheight = conv_ksize[0]\n",
    "    fwidth = conv_ksize[1]\n",
    "    # Define the padding, lets leave it in Same for right now\n",
    "    padding = 'SAME'\n",
    "    # Create the strides vector for the convolution network\n",
    "    conv_strides_vector = [1, conv_strides[0], conv_strides[1], 1]\n",
    "    # Create the pooling size vector\n",
    "    pool_ksize_vector = [1, pool_ksize[0], pool_ksize[1], 1]\n",
    "    # Create the pooling strides vector\n",
    "    pool_strides_vector = [1, pool_strides[0], pool_strides[1], 1]\n",
    "    # Initialize the weights of the filter to be from a truncated distribution\n",
    "    filter_weigths = tf.Variable(tf.truncated_normal(shape=[fheight, fwidth, idepth, conv_num_outputs], stddev=0.05))\n",
    "    # Add the bias\n",
    "    filter_bias = tf.Variable(tf.zeros(conv_num_outputs))\n",
    "    # Create the convolution layer\n",
    "    conv_layer = tf.nn.conv2d(x_tensor, filter_weigths, strides=conv_strides_vector, padding=padding)\n",
    "    # Add the bias\n",
    "    conv_layer = tf.nn.bias_add(conv_layer, filter_bias)\n",
    "    # Apply the non linearity\n",
    "    conv_layer = tf.nn.relu(conv_layer)\n",
    "    # Add The maxpooling layer\n",
    "    conv_layer = tf.nn.max_pool(conv_layer, ksize=pool_ksize_vector, strides=pool_strides_vector, padding=padding)\n",
    "    return conv_layer \n",
    "\n",
    "\n",
    "\n",
    "\"\"\"\n",
    "DON'T MODIFY ANYTHING IN THIS CELL THAT IS BELOW THIS LINE\n",
    "\"\"\"\n",
    "tests.test_con_pool(conv2d_maxpool)"
   ]
  },
  {
   "cell_type": "markdown",
   "metadata": {},
   "source": [
    "### Flatten Layer\n",
    "Implement the `flatten` function to change the dimension of `x_tensor` from a 4-D tensor to a 2-D tensor.  The output should be the shape (*Batch Size*, *Flattened Image Size*). Shortcut option: you can use classes from the [TensorFlow Layers](https://www.tensorflow.org/api_docs/python/tf/layers) or [TensorFlow Layers (contrib)](https://www.tensorflow.org/api_guides/python/contrib.layers) packages for this layer. For more of a challenge, only use other TensorFlow packages."
   ]
  },
  {
   "cell_type": "code",
   "execution_count": 15,
   "metadata": {},
   "outputs": [
    {
     "name": "stdout",
     "output_type": "stream",
     "text": [
      "Tests Passed\n"
     ]
    }
   ],
   "source": [
    "def flatten(x_tensor):\n",
    "    \"\"\"\n",
    "    Flatten x_tensor to (Batch Size, Flattened Image Size)\n",
    "    : x_tensor: A tensor of size (Batch Size, ...), where ... are the image dimensions.\n",
    "    : return: A tensor of size (Batch Size, Flattened Image Size).\n",
    "    \"\"\"\n",
    "      \n",
    "    tensor_shape = x_tensor.get_shape().as_list()\n",
    "    # Get the length of the flat dimensions.\n",
    "    flattened_shape = np.array(tensor_shape[1:]).prod()\n",
    "    # Batch size is casted by tf.shape().\n",
    "    return tf.reshape(x_tensor, [tf.shape(x_tensor)[0], flattened_shape])\n",
    "\n",
    "\"\"\"\n",
    "DON'T MODIFY ANYTHING IN THIS CELL THAT IS BELOW THIS LINE\n",
    "\"\"\"\n",
    "tests.test_flatten(flatten)"
   ]
  },
  {
   "cell_type": "markdown",
   "metadata": {},
   "source": [
    "### Fully-Connected Layer\n",
    "Implement the `fully_conn` function to apply a fully connected layer to `x_tensor` with the shape (*Batch Size*, *num_outputs*). Shortcut option: you can use classes from the [TensorFlow Layers](https://www.tensorflow.org/api_docs/python/tf/layers) or [TensorFlow Layers (contrib)](https://www.tensorflow.org/api_guides/python/contrib.layers) packages for this layer. For more of a challenge, only use other TensorFlow packages."
   ]
  },
  {
   "cell_type": "code",
   "execution_count": 16,
   "metadata": {},
   "outputs": [
    {
     "name": "stdout",
     "output_type": "stream",
     "text": [
      "Tests Passed\n"
     ]
    }
   ],
   "source": [
    "def fully_conn(x_tensor, num_outputs):\n",
    "    \"\"\"\n",
    "    Apply a fully connected layer to x_tensor using weight and bias\n",
    "    : x_tensor: A 2-D tensor where the first dimension is batch size.\n",
    "    : num_outputs: The number of output that the new tensor should be.\n",
    "    : return: A 2-D tensor where the second dimension is num_outputs.\n",
    "    \"\"\"\n",
    "     # TODO: Implement Function\n",
    "    image_size = x_tensor.get_shape().as_list()[1]\n",
    "    weights = tf.Variable(tf.truncated_normal(([image_size, num_outputs]), stddev=0.045))\n",
    "    bias = tf.Variable(tf.zeros(num_outputs))\n",
    "    fc_layer = tf.add(tf.matmul(x_tensor, weights), bias)\n",
    "    return tf.nn.relu(fc_layer)\n",
    "\n",
    "\"\"\"\n",
    "DON'T MODIFY ANYTHING IN THIS CELL THAT IS BELOW THIS LINE\n",
    "\"\"\"\n",
    "tests.test_fully_conn(fully_conn)"
   ]
  },
  {
   "cell_type": "markdown",
   "metadata": {},
   "source": [
    "### Output Layer\n",
    "Implement the `output` function to apply a fully connected layer to `x_tensor` with the shape (*Batch Size*, *num_outputs*). Shortcut option: you can use classes from the [TensorFlow Layers](https://www.tensorflow.org/api_docs/python/tf/layers) or [TensorFlow Layers (contrib)](https://www.tensorflow.org/api_guides/python/contrib.layers) packages for this layer. For more of a challenge, only use other TensorFlow packages.\n",
    "\n",
    "**Note:** Activation, softmax, or cross entropy should **not** be applied to this."
   ]
  },
  {
   "cell_type": "code",
   "execution_count": 17,
   "metadata": {},
   "outputs": [
    {
     "name": "stdout",
     "output_type": "stream",
     "text": [
      "Tests Passed\n"
     ]
    }
   ],
   "source": [
    "def output(x_tensor, num_outputs):\n",
    "    \"\"\"\n",
    "    Apply a output layer to x_tensor using weight and bias\n",
    "    : x_tensor: A 2-D tensor where the first dimension is batch size.\n",
    "    : num_outputs: The number of output that the new tensor should be.\n",
    "    : return: A 2-D tensor where the second dimension is num_outputs.\n",
    "    \"\"\"\n",
    "    flattened_shape = np.array(x_tensor.get_shape().as_list()[1:]).prod()\n",
    "    # Define trainable variables.\n",
    "    weights = tf.Variable(tf.truncated_normal([flattened_shape, num_outputs], stddev=0.045))\n",
    "    bias = tf.Variable(tf.zeros([num_outputs]))\n",
    "    \n",
    "    # Output layer.    \n",
    "    return tf.add(tf.matmul(x_tensor, weights), bias)\n",
    "\n",
    "\n",
    "\"\"\"\n",
    "DON'T MODIFY ANYTHING IN THIS CELL THAT IS BELOW THIS LINE\n",
    "\"\"\"\n",
    "tests.test_output(output)"
   ]
  },
  {
   "cell_type": "markdown",
   "metadata": {},
   "source": [
    "### Create Convolutional Model\n",
    "Implement the function `conv_net` to create a convolutional neural network model. The function takes in a batch of images, `x`, and outputs logits.  Use the layers you created above to create this model:\n",
    "\n",
    "* Apply 1, 2, or 3 Convolution and Max Pool layers\n",
    "* Apply a Flatten Layer\n",
    "* Apply 1, 2, or 3 Fully Connected Layers\n",
    "* Apply an Output Layer\n",
    "* Return the output\n",
    "* Apply [TensorFlow's Dropout](https://www.tensorflow.org/api_docs/python/tf/nn/dropout) to one or more layers in the model using `keep_prob`. "
   ]
  },
  {
   "cell_type": "code",
   "execution_count": 18,
   "metadata": {},
   "outputs": [
    {
     "name": "stdout",
     "output_type": "stream",
     "text": [
      "WARNING:tensorflow:From <ipython-input-18-ffb0d68ee616>:83: softmax_cross_entropy_with_logits (from tensorflow.python.ops.nn_ops) is deprecated and will be removed in a future version.\n",
      "Instructions for updating:\n",
      "\n",
      "Future major versions of TensorFlow will allow gradients to flow\n",
      "into the labels input on backprop by default.\n",
      "\n",
      "See @{tf.nn.softmax_cross_entropy_with_logits_v2}.\n",
      "\n",
      "Neural Network Built!\n"
     ]
    }
   ],
   "source": [
    "def conv_net(x, keep_prob):\n",
    "    \"\"\"\n",
    "    Create a convolutional neural network model\n",
    "    : x: Placeholder tensor that holds image data.\n",
    "    : keep_prob: Placeholder tensor that hold dropout keep probability.\n",
    "    : return: Tensor that represents logits\n",
    "    \"\"\"\n",
    "    # TODO: Apply 1, 2, or 3 Convolution and Max Pool layers\n",
    "    #    Play around with different number of outputs, kernel size and stride\n",
    "    # Function Definition from Above:\n",
    "    #    conv2d_maxpool(x_tensor, conv_num_outputs, conv_ksize, conv_strides, pool_ksize, pool_strides)\n",
    "    \n",
    "# Define parameters for the first convolutional layer\n",
    "    first_conv_output = 32\n",
    "    first_conv_ksize = [4, 4]\n",
    "    first_conv_strides = [1, 1]\n",
    "    first_pool_ksize=[3, 3]\n",
    "    first_pool_strides = [2, 2]\n",
    "    \n",
    "    # Define parameters for the second convolutional layer\n",
    "    second_conv_output = 16\n",
    "    second_conv_ksize = [4, 4]\n",
    "    second_conv_strides = [1, 1]\n",
    "    second_pool_ksize=[3, 3]\n",
    "    second_pool_strides = [2, 2]\n",
    "    \n",
    "    # Parameters for the fully connected layers\n",
    "    fconnected_size_1 = 128\n",
    "    fconnected_size_2 = 64\n",
    "    \n",
    "    num_outputs = 10\n",
    "    \n",
    "    # First Layer\n",
    "    first_conv_layer = conv2d_maxpool(x, \n",
    "                                      first_conv_output, \n",
    "                                      first_conv_ksize, \n",
    "                                      first_conv_strides, \n",
    "                                      first_pool_ksize, \n",
    "                                      first_pool_strides)\n",
    "    # Second Layer\n",
    "    second_conv_layer = conv2d_maxpool(first_conv_layer, \n",
    "                                      second_conv_output, \n",
    "                                      second_conv_ksize, \n",
    "                                      second_conv_strides, \n",
    "                                      second_pool_ksize, \n",
    "                                      second_pool_strides)\n",
    "    \n",
    "    # Prepare for flattening\n",
    "    last_conv_layer = second_conv_layer\n",
    "    # Do flattening\n",
    "    flattened_layer = flatten(last_conv_layer)\n",
    "    # First fully connected layer\n",
    "    fully_connected_layer_1 = fully_conn(flattened_layer, fconnected_size_1)\n",
    "    # Second fully connected layer\n",
    "    fully_connected_layer_2 = fully_conn(fully_connected_layer_1, fconnected_size_2)\n",
    "    # Ouput layer\n",
    "    last_output = output(fully_connected_layer_1, num_outputs)\n",
    "    return last_output\n",
    "\n",
    "\"\"\"\n",
    "DON'T MODIFY ANYTHING IN THIS CELL THAT IS BELOW THIS LINE\n",
    "\"\"\"\n",
    "\n",
    "##############################\n",
    "## Build the Neural Network ##\n",
    "##############################\n",
    "\n",
    "# Remove previous weights, bias, inputs, etc..\n",
    "tf.reset_default_graph()\n",
    "\n",
    "# Inputs\n",
    "x = neural_net_image_input((32, 32, 3))\n",
    "y = neural_net_label_input(10)\n",
    "keep_prob = neural_net_keep_prob_input()\n",
    "\n",
    "# Model\n",
    "logits = conv_net(x, keep_prob)\n",
    "\n",
    "# Name logits Tensor, so that is can be loaded from disk after training\n",
    "logits = tf.identity(logits, name='logits')\n",
    "\n",
    "# Loss and Optimizer\n",
    "cost = tf.reduce_mean(tf.nn.softmax_cross_entropy_with_logits(logits=logits, labels=y))\n",
    "optimizer = tf.train.AdamOptimizer().minimize(cost)\n",
    "\n",
    "# Accuracy\n",
    "correct_pred = tf.equal(tf.argmax(logits, 1), tf.argmax(y, 1))\n",
    "accuracy = tf.reduce_mean(tf.cast(correct_pred, tf.float32), name='accuracy')\n",
    "\n",
    "tests.test_conv_net(conv_net)"
   ]
  },
  {
   "cell_type": "markdown",
   "metadata": {},
   "source": [
    "## Train the Neural Network\n",
    "### Single Optimization\n",
    "Implement the function `train_neural_network` to do a single optimization.  The optimization should use `optimizer` to optimize in `session` with a `feed_dict` of the following:\n",
    "* `x` for image input\n",
    "* `y` for labels\n",
    "* `keep_prob` for keep probability for dropout\n",
    "\n",
    "This function will be called for each batch, so `tf.global_variables_initializer()` has already been called.\n",
    "\n",
    "Note: Nothing needs to be returned. This function is only optimizing the neural network."
   ]
  },
  {
   "cell_type": "code",
   "execution_count": 19,
   "metadata": {},
   "outputs": [
    {
     "name": "stdout",
     "output_type": "stream",
     "text": [
      "Tests Passed\n"
     ]
    }
   ],
   "source": [
    "def train_neural_network(session, optimizer, keep_probability, feature_batch, label_batch):\n",
    "    \"\"\"\n",
    "    Optimize the session on a batch of images and labels\n",
    "    : session: Current TensorFlow session\n",
    "    : optimizer: TensorFlow optimizer function\n",
    "    : keep_probability: keep probability\n",
    "    : feature_batch: Batch of Numpy image data\n",
    "    : label_batch: Batch of Numpy label data\n",
    "    \"\"\"\n",
    "    # TODO: Implement Function\n",
    "     # Create the feeding dictionary for trainning\n",
    "    f_dict = {x: feature_batch, y: label_batch, keep_prob: keep_probability}\n",
    "    session.run(optimizer, feed_dict=f_dict)\n",
    "\n",
    "    pass\n",
    "\n",
    "\n",
    "\"\"\"\n",
    "DON'T MODIFY ANYTHING IN THIS CELL THAT IS BELOW THIS LINE\n",
    "\"\"\"\n",
    "tests.test_train_nn(train_neural_network)"
   ]
  },
  {
   "cell_type": "markdown",
   "metadata": {},
   "source": [
    "### Show Stats\n",
    "Implement the function `print_stats` to print loss and validation accuracy.  Use the global variables `valid_features` and `valid_labels` to calculate validation accuracy.  Use a keep probability of `1.0` to calculate the loss and validation accuracy."
   ]
  },
  {
   "cell_type": "code",
   "execution_count": 21,
   "metadata": {},
   "outputs": [],
   "source": [
    "def print_stats(session, feature_batch, label_batch, cost, accuracy):\n",
    "    \"\"\"\n",
    "    Print information about loss and validation accuracy\n",
    "    : session: Current TensorFlow session\n",
    "    : feature_batch: Batch of Numpy image data\n",
    "    : label_batch: Batch of Numpy label data\n",
    "    : cost: TensorFlow cost function\n",
    "    : accuracy: TensorFlow accuracy function\n",
    "    \"\"\"\n",
    "    # TODO: Implement Function\n",
    "    loss = session.run(cost, feed_dict = {x: feature_batch, y: label_batch, keep_prob: 1.0})\n",
    "    valid_acc = session.run(accuracy, feed_dict = {x: valid_features, y: valid_labels, keep_prob: 1.0})\n",
    "    print('Loss: {} Validation Accuracy: {}'.format(loss, valid_acc))\n",
    "    pass"
   ]
  },
  {
   "cell_type": "markdown",
   "metadata": {},
   "source": [
    "### Hyperparameters\n",
    "Tune the following parameters:\n",
    "* Set `epochs` to the number of iterations until the network stops learning or start overfitting\n",
    "* Set `batch_size` to the highest number that your machine has memory for.  Most people set them to common sizes of memory:\n",
    " * 64\n",
    " * 128\n",
    " * 256\n",
    " * ...\n",
    "* Set `keep_probability` to the probability of keeping a node using dropout"
   ]
  },
  {
   "cell_type": "code",
   "execution_count": 22,
   "metadata": {},
   "outputs": [],
   "source": [
    "# TODO: Tune Parameters\n",
    "epochs = 40\n",
    "batch_size =512\n",
    "keep_probability = 0.67"
   ]
  },
  {
   "cell_type": "markdown",
   "metadata": {},
   "source": [
    "### Train on a Single CIFAR-10 Batch\n",
    "Instead of training the neural network on all the CIFAR-10 batches of data, let's use a single batch. This should save time while you iterate on the model to get a better accuracy.  Once the final validation accuracy is 50% or greater, run the model on all the data in the next section."
   ]
  },
  {
   "cell_type": "code",
   "execution_count": 24,
   "metadata": {},
   "outputs": [
    {
     "name": "stdout",
     "output_type": "stream",
     "text": [
      "Checking the Training on a Single Batch...\n",
      "Epoch  1, CIFAR-10 Batch 1:  Loss: 2.0942845344543457 Validation Accuracy: 0.24719999730587006\n",
      "Epoch  2, CIFAR-10 Batch 1:  Loss: 1.9392666816711426 Validation Accuracy: 0.33320000767707825\n",
      "Epoch  3, CIFAR-10 Batch 1:  Loss: 1.824576735496521 Validation Accuracy: 0.3684000074863434\n",
      "Epoch  4, CIFAR-10 Batch 1:  Loss: 1.7420097589492798 Validation Accuracy: 0.39340001344680786\n",
      "Epoch  5, CIFAR-10 Batch 1:  Loss: 1.6887844800949097 Validation Accuracy: 0.40700000524520874\n",
      "Epoch  6, CIFAR-10 Batch 1:  Loss: 1.634621024131775 Validation Accuracy: 0.4253999888896942\n",
      "Epoch  7, CIFAR-10 Batch 1:  Loss: 1.5838755369186401 Validation Accuracy: 0.4397999942302704\n",
      "Epoch  8, CIFAR-10 Batch 1:  Loss: 1.5477532148361206 Validation Accuracy: 0.459199994802475\n",
      "Epoch  9, CIFAR-10 Batch 1:  Loss: 1.502663016319275 Validation Accuracy: 0.4666000008583069\n",
      "Epoch 10, CIFAR-10 Batch 1:  Loss: 1.4762089252471924 Validation Accuracy: 0.4708000123500824\n",
      "Epoch 11, CIFAR-10 Batch 1:  Loss: 1.4393917322158813 Validation Accuracy: 0.4812000095844269\n",
      "Epoch 12, CIFAR-10 Batch 1:  Loss: 1.4063551425933838 Validation Accuracy: 0.490200012922287\n",
      "Epoch 13, CIFAR-10 Batch 1:  Loss: 1.3770246505737305 Validation Accuracy: 0.49619999527931213\n",
      "Epoch 14, CIFAR-10 Batch 1:  Loss: 1.3459466695785522 Validation Accuracy: 0.5045999884605408\n",
      "Epoch 15, CIFAR-10 Batch 1:  Loss: 1.3173965215682983 Validation Accuracy: 0.5121999979019165\n",
      "Epoch 16, CIFAR-10 Batch 1:  Loss: 1.2887508869171143 Validation Accuracy: 0.5163999795913696\n",
      "Epoch 17, CIFAR-10 Batch 1:  Loss: 1.2599807977676392 Validation Accuracy: 0.5257999897003174\n",
      "Epoch 18, CIFAR-10 Batch 1:  Loss: 1.2349358797073364 Validation Accuracy: 0.5296000242233276\n",
      "Epoch 19, CIFAR-10 Batch 1:  Loss: 1.2111655473709106 Validation Accuracy: 0.5299999713897705\n",
      "Epoch 20, CIFAR-10 Batch 1:  Loss: 1.1859912872314453 Validation Accuracy: 0.5375999808311462\n",
      "Epoch 21, CIFAR-10 Batch 1:  Loss: 1.1624935865402222 Validation Accuracy: 0.5425999760627747\n",
      "Epoch 22, CIFAR-10 Batch 1:  Loss: 1.1392526626586914 Validation Accuracy: 0.5443999767303467\n",
      "Epoch 23, CIFAR-10 Batch 1:  Loss: 1.1147500276565552 Validation Accuracy: 0.550599992275238\n",
      "Epoch 24, CIFAR-10 Batch 1:  Loss: 1.0939584970474243 Validation Accuracy: 0.551800012588501\n",
      "Epoch 25, CIFAR-10 Batch 1:  Loss: 1.0764132738113403 Validation Accuracy: 0.5541999936103821\n",
      "Epoch 26, CIFAR-10 Batch 1:  Loss: 1.056644320487976 Validation Accuracy: 0.5546000003814697\n",
      "Epoch 27, CIFAR-10 Batch 1:  Loss: 1.0303995609283447 Validation Accuracy: 0.5633999705314636\n",
      "Epoch 28, CIFAR-10 Batch 1:  Loss: 1.0058330297470093 Validation Accuracy: 0.5703999996185303\n",
      "Epoch 29, CIFAR-10 Batch 1:  Loss: 1.038226842880249 Validation Accuracy: 0.5645999908447266\n",
      "Epoch 30, CIFAR-10 Batch 1:  Loss: 0.9788334965705872 Validation Accuracy: 0.5738000273704529\n",
      "Epoch 31, CIFAR-10 Batch 1:  Loss: 0.9532891511917114 Validation Accuracy: 0.5759999752044678\n",
      "Epoch 32, CIFAR-10 Batch 1:  Loss: 0.9334596991539001 Validation Accuracy: 0.5825999975204468\n",
      "Epoch 33, CIFAR-10 Batch 1:  Loss: 0.9175654053688049 Validation Accuracy: 0.578000009059906\n",
      "Epoch 34, CIFAR-10 Batch 1:  Loss: 0.9017160534858704 Validation Accuracy: 0.5806000232696533\n",
      "Epoch 35, CIFAR-10 Batch 1:  Loss: 0.8861028552055359 Validation Accuracy: 0.5843999981880188\n",
      "Epoch 36, CIFAR-10 Batch 1:  Loss: 0.8711057305335999 Validation Accuracy: 0.5874000191688538\n",
      "Epoch 37, CIFAR-10 Batch 1:  Loss: 0.8550045490264893 Validation Accuracy: 0.5898000001907349\n",
      "Epoch 38, CIFAR-10 Batch 1:  Loss: 0.8391575813293457 Validation Accuracy: 0.5898000001907349\n",
      "Epoch 39, CIFAR-10 Batch 1:  Loss: 0.8241592645645142 Validation Accuracy: 0.5914000272750854\n",
      "Epoch 40, CIFAR-10 Batch 1:  Loss: 0.8100442886352539 Validation Accuracy: 0.5938000082969666\n"
     ]
    }
   ],
   "source": [
    "\"\"\"\n",
    "DON'T MODIFY ANYTHING IN THIS CELL\n",
    "\"\"\"\n",
    "print('Checking the Training on a Single Batch...')\n",
    "with tf.Session() as sess:\n",
    "    # Initializing the variables\n",
    "    sess.run(tf.global_variables_initializer())\n",
    "    \n",
    "    # Training cycle\n",
    "    for epoch in range(epochs):\n",
    "        batch_i = 1\n",
    "        for batch_features, batch_labels in helper.load_preprocess_training_batch(batch_i, batch_size):\n",
    "            train_neural_network(sess, optimizer, keep_probability, batch_features, batch_labels)\n",
    "        print('Epoch {:>2}, CIFAR-10 Batch {}:  '.format(epoch + 1, batch_i), end='')\n",
    "        print_stats(sess, batch_features, batch_labels, cost, accuracy)"
   ]
  },
  {
   "cell_type": "markdown",
   "metadata": {},
   "source": [
    "### Fully Train the Model\n",
    "Now that you got a good accuracy with a single CIFAR-10 batch, try it with all five batches."
   ]
  },
  {
   "cell_type": "code",
   "execution_count": 25,
   "metadata": {},
   "outputs": [
    {
     "name": "stdout",
     "output_type": "stream",
     "text": [
      "Training...\n",
      "Epoch  1, CIFAR-10 Batch 1:  Loss: 2.108671188354492 Validation Accuracy: 0.2667999863624573\n",
      "Epoch  1, CIFAR-10 Batch 2:  Loss: 1.803745985031128 Validation Accuracy: 0.3440000116825104\n",
      "Epoch  1, CIFAR-10 Batch 3:  Loss: 1.630959153175354 Validation Accuracy: 0.375\n",
      "Epoch  1, CIFAR-10 Batch 4:  Loss: 1.5764752626419067 Validation Accuracy: 0.41359999775886536\n",
      "Epoch  1, CIFAR-10 Batch 5:  Loss: 1.604156494140625 Validation Accuracy: 0.4339999854564667\n",
      "Epoch  2, CIFAR-10 Batch 1:  Loss: 1.6440273523330688 Validation Accuracy: 0.4519999921321869\n",
      "Epoch  2, CIFAR-10 Batch 2:  Loss: 1.515407681465149 Validation Accuracy: 0.44620001316070557\n",
      "Epoch  2, CIFAR-10 Batch 3:  Loss: 1.3609423637390137 Validation Accuracy: 0.4641999900341034\n",
      "Epoch  2, CIFAR-10 Batch 4:  Loss: 1.3847086429595947 Validation Accuracy: 0.4722000062465668\n",
      "Epoch  2, CIFAR-10 Batch 5:  Loss: 1.452645182609558 Validation Accuracy: 0.4869999885559082\n",
      "Epoch  3, CIFAR-10 Batch 1:  Loss: 1.483786702156067 Validation Accuracy: 0.49799999594688416\n",
      "Epoch  3, CIFAR-10 Batch 2:  Loss: 1.3815453052520752 Validation Accuracy: 0.4925999939441681\n",
      "Epoch  3, CIFAR-10 Batch 3:  Loss: 1.231345295906067 Validation Accuracy: 0.506600022315979\n",
      "Epoch  3, CIFAR-10 Batch 4:  Loss: 1.2589083909988403 Validation Accuracy: 0.5152000188827515\n",
      "Epoch  3, CIFAR-10 Batch 5:  Loss: 1.3521088361740112 Validation Accuracy: 0.5189999938011169\n",
      "Epoch  4, CIFAR-10 Batch 1:  Loss: 1.3759616613388062 Validation Accuracy: 0.5343999862670898\n",
      "Epoch  4, CIFAR-10 Batch 2:  Loss: 1.2944927215576172 Validation Accuracy: 0.5144000053405762\n",
      "Epoch  4, CIFAR-10 Batch 3:  Loss: 1.1426022052764893 Validation Accuracy: 0.5415999889373779\n",
      "Epoch  4, CIFAR-10 Batch 4:  Loss: 1.1750361919403076 Validation Accuracy: 0.5404000282287598\n",
      "Epoch  4, CIFAR-10 Batch 5:  Loss: 1.2628581523895264 Validation Accuracy: 0.5559999942779541\n",
      "Epoch  5, CIFAR-10 Batch 1:  Loss: 1.2899709939956665 Validation Accuracy: 0.5601999759674072\n",
      "Epoch  5, CIFAR-10 Batch 2:  Loss: 1.205612301826477 Validation Accuracy: 0.5479999780654907\n",
      "Epoch  5, CIFAR-10 Batch 3:  Loss: 1.0842186212539673 Validation Accuracy: 0.5598000288009644\n",
      "Epoch  5, CIFAR-10 Batch 4:  Loss: 1.0870537757873535 Validation Accuracy: 0.5716000199317932\n",
      "Epoch  5, CIFAR-10 Batch 5:  Loss: 1.2076495885849 Validation Accuracy: 0.5717999935150146\n",
      "Epoch  6, CIFAR-10 Batch 1:  Loss: 1.2408639192581177 Validation Accuracy: 0.5702000260353088\n",
      "Epoch  6, CIFAR-10 Batch 2:  Loss: 1.137677788734436 Validation Accuracy: 0.5763999819755554\n",
      "Epoch  6, CIFAR-10 Batch 3:  Loss: 1.0279775857925415 Validation Accuracy: 0.5759999752044678\n",
      "Epoch  6, CIFAR-10 Batch 4:  Loss: 1.0308377742767334 Validation Accuracy: 0.5860000252723694\n",
      "Epoch  6, CIFAR-10 Batch 5:  Loss: 1.1515601873397827 Validation Accuracy: 0.5827999711036682\n",
      "Epoch  7, CIFAR-10 Batch 1:  Loss: 1.1905121803283691 Validation Accuracy: 0.5788000226020813\n",
      "Epoch  7, CIFAR-10 Batch 2:  Loss: 1.0902013778686523 Validation Accuracy: 0.5881999731063843\n",
      "Epoch  7, CIFAR-10 Batch 3:  Loss: 0.9875723123550415 Validation Accuracy: 0.5910000205039978\n",
      "Epoch  7, CIFAR-10 Batch 4:  Loss: 0.9779042601585388 Validation Accuracy: 0.597599983215332\n",
      "Epoch  7, CIFAR-10 Batch 5:  Loss: 1.103495717048645 Validation Accuracy: 0.5917999744415283\n",
      "Epoch  8, CIFAR-10 Batch 1:  Loss: 1.1388423442840576 Validation Accuracy: 0.5925999879837036\n",
      "Epoch  8, CIFAR-10 Batch 2:  Loss: 1.046926498413086 Validation Accuracy: 0.6025999784469604\n",
      "Epoch  8, CIFAR-10 Batch 3:  Loss: 0.9544708728790283 Validation Accuracy: 0.6003999710083008\n",
      "Epoch  8, CIFAR-10 Batch 4:  Loss: 0.9366900324821472 Validation Accuracy: 0.6122000217437744\n",
      "Epoch  8, CIFAR-10 Batch 5:  Loss: 1.0602784156799316 Validation Accuracy: 0.6060000061988831\n",
      "Epoch  9, CIFAR-10 Batch 1:  Loss: 1.0952613353729248 Validation Accuracy: 0.6025999784469604\n",
      "Epoch  9, CIFAR-10 Batch 2:  Loss: 1.0025397539138794 Validation Accuracy: 0.6208000183105469\n",
      "Epoch  9, CIFAR-10 Batch 3:  Loss: 0.9024919867515564 Validation Accuracy: 0.6168000102043152\n",
      "Epoch  9, CIFAR-10 Batch 4:  Loss: 0.9023030400276184 Validation Accuracy: 0.623199999332428\n",
      "Epoch  9, CIFAR-10 Batch 5:  Loss: 1.0257782936096191 Validation Accuracy: 0.6191999912261963\n",
      "Epoch 10, CIFAR-10 Batch 1:  Loss: 1.0617915391921997 Validation Accuracy: 0.6122000217437744\n",
      "Epoch 10, CIFAR-10 Batch 2:  Loss: 0.9619078636169434 Validation Accuracy: 0.6273999810218811\n",
      "Epoch 10, CIFAR-10 Batch 3:  Loss: 0.866827666759491 Validation Accuracy: 0.6248000264167786\n",
      "Epoch 10, CIFAR-10 Batch 4:  Loss: 0.8758360147476196 Validation Accuracy: 0.6340000033378601\n",
      "Epoch 10, CIFAR-10 Batch 5:  Loss: 0.9930513501167297 Validation Accuracy: 0.6277999877929688\n",
      "Epoch 11, CIFAR-10 Batch 1:  Loss: 1.0185647010803223 Validation Accuracy: 0.623199999332428\n",
      "Epoch 11, CIFAR-10 Batch 2:  Loss: 0.9320800304412842 Validation Accuracy: 0.6331999897956848\n",
      "Epoch 11, CIFAR-10 Batch 3:  Loss: 0.8525410294532776 Validation Accuracy: 0.6290000081062317\n",
      "Epoch 11, CIFAR-10 Batch 4:  Loss: 0.8587247729301453 Validation Accuracy: 0.6317999958992004\n",
      "Epoch 11, CIFAR-10 Batch 5:  Loss: 0.9589685201644897 Validation Accuracy: 0.6317999958992004\n",
      "Epoch 12, CIFAR-10 Batch 1:  Loss: 0.9744524359703064 Validation Accuracy: 0.6377999782562256\n",
      "Epoch 12, CIFAR-10 Batch 2:  Loss: 0.899193525314331 Validation Accuracy: 0.6431999802589417\n",
      "Epoch 12, CIFAR-10 Batch 3:  Loss: 0.831763505935669 Validation Accuracy: 0.6312000155448914\n",
      "Epoch 12, CIFAR-10 Batch 4:  Loss: 0.8335753083229065 Validation Accuracy: 0.6367999911308289\n",
      "Epoch 12, CIFAR-10 Batch 5:  Loss: 0.928770124912262 Validation Accuracy: 0.6388000249862671\n",
      "Epoch 13, CIFAR-10 Batch 1:  Loss: 0.951011061668396 Validation Accuracy: 0.6431999802589417\n",
      "Epoch 13, CIFAR-10 Batch 2:  Loss: 0.8728886246681213 Validation Accuracy: 0.644599974155426\n",
      "Epoch 13, CIFAR-10 Batch 3:  Loss: 0.8129656314849854 Validation Accuracy: 0.6363999843597412\n",
      "Epoch 13, CIFAR-10 Batch 4:  Loss: 0.8072939515113831 Validation Accuracy: 0.6438000202178955\n",
      "Epoch 13, CIFAR-10 Batch 5:  Loss: 0.9010675549507141 Validation Accuracy: 0.6453999876976013\n",
      "Epoch 14, CIFAR-10 Batch 1:  Loss: 0.9319623708724976 Validation Accuracy: 0.6425999999046326\n",
      "Epoch 14, CIFAR-10 Batch 2:  Loss: 0.8517100811004639 Validation Accuracy: 0.649399995803833\n",
      "Epoch 14, CIFAR-10 Batch 3:  Loss: 0.7936323881149292 Validation Accuracy: 0.6467999815940857\n",
      "Epoch 14, CIFAR-10 Batch 4:  Loss: 0.7884051203727722 Validation Accuracy: 0.6514000296592712\n",
      "Epoch 14, CIFAR-10 Batch 5:  Loss: 0.8701502084732056 Validation Accuracy: 0.6499999761581421\n",
      "Epoch 15, CIFAR-10 Batch 1:  Loss: 0.9162306785583496 Validation Accuracy: 0.6403999924659729\n",
      "Epoch 15, CIFAR-10 Batch 2:  Loss: 0.8459786772727966 Validation Accuracy: 0.6470000147819519\n",
      "Epoch 15, CIFAR-10 Batch 3:  Loss: 0.7761253118515015 Validation Accuracy: 0.6488000154495239\n",
      "Epoch 15, CIFAR-10 Batch 4:  Loss: 0.7622187733650208 Validation Accuracy: 0.6607999801635742\n",
      "Epoch 15, CIFAR-10 Batch 5:  Loss: 0.8506808876991272 Validation Accuracy: 0.6618000268936157\n",
      "Epoch 16, CIFAR-10 Batch 1:  Loss: 0.8926137685775757 Validation Accuracy: 0.6484000086784363\n",
      "Epoch 16, CIFAR-10 Batch 2:  Loss: 0.8461663722991943 Validation Accuracy: 0.6413999795913696\n",
      "Epoch 16, CIFAR-10 Batch 3:  Loss: 0.7603960037231445 Validation Accuracy: 0.6471999883651733\n",
      "Epoch 16, CIFAR-10 Batch 4:  Loss: 0.7355102896690369 Validation Accuracy: 0.6678000092506409\n",
      "Epoch 16, CIFAR-10 Batch 5:  Loss: 0.8264462947845459 Validation Accuracy: 0.6618000268936157\n",
      "Epoch 17, CIFAR-10 Batch 1:  Loss: 0.869942307472229 Validation Accuracy: 0.6534000039100647\n",
      "Epoch 17, CIFAR-10 Batch 2:  Loss: 0.8218616843223572 Validation Accuracy: 0.649399995803833\n",
      "Epoch 17, CIFAR-10 Batch 3:  Loss: 0.7371928095817566 Validation Accuracy: 0.6556000113487244\n",
      "Epoch 17, CIFAR-10 Batch 4:  Loss: 0.7193489074707031 Validation Accuracy: 0.6672000288963318\n",
      "Epoch 17, CIFAR-10 Batch 5:  Loss: 0.8038918972015381 Validation Accuracy: 0.6674000024795532\n",
      "Epoch 18, CIFAR-10 Batch 1:  Loss: 0.8514500260353088 Validation Accuracy: 0.6561999917030334\n",
      "Epoch 18, CIFAR-10 Batch 2:  Loss: 0.7979868650436401 Validation Accuracy: 0.652999997138977\n",
      "Epoch 18, CIFAR-10 Batch 3:  Loss: 0.716050922870636 Validation Accuracy: 0.6615999937057495\n",
      "Epoch 18, CIFAR-10 Batch 4:  Loss: 0.7027244567871094 Validation Accuracy: 0.6705999970436096\n",
      "Epoch 18, CIFAR-10 Batch 5:  Loss: 0.7814271450042725 Validation Accuracy: 0.6704000234603882\n",
      "Epoch 19, CIFAR-10 Batch 1:  Loss: 0.8326418399810791 Validation Accuracy: 0.6600000262260437\n",
      "Epoch 19, CIFAR-10 Batch 2:  Loss: 0.7744761109352112 Validation Accuracy: 0.6611999869346619\n",
      "Epoch 19, CIFAR-10 Batch 3:  Loss: 0.700691819190979 Validation Accuracy: 0.6656000018119812\n",
      "Epoch 19, CIFAR-10 Batch 4:  Loss: 0.687823474407196 Validation Accuracy: 0.6722000241279602\n",
      "Epoch 19, CIFAR-10 Batch 5:  Loss: 0.7612797021865845 Validation Accuracy: 0.6747999787330627\n",
      "Epoch 20, CIFAR-10 Batch 1:  Loss: 0.8212951421737671 Validation Accuracy: 0.6618000268936157\n",
      "Epoch 20, CIFAR-10 Batch 2:  Loss: 0.7530585527420044 Validation Accuracy: 0.6656000018119812\n",
      "Epoch 20, CIFAR-10 Batch 3:  Loss: 0.6807110905647278 Validation Accuracy: 0.6682000160217285\n",
      "Epoch 20, CIFAR-10 Batch 4:  Loss: 0.6695963144302368 Validation Accuracy: 0.6773999929428101\n",
      "Epoch 20, CIFAR-10 Batch 5:  Loss: 0.7365142703056335 Validation Accuracy: 0.6791999936103821\n",
      "Epoch 21, CIFAR-10 Batch 1:  Loss: 0.806884229183197 Validation Accuracy: 0.6639999747276306\n",
      "Epoch 21, CIFAR-10 Batch 2:  Loss: 0.735438346862793 Validation Accuracy: 0.6696000099182129\n",
      "Epoch 21, CIFAR-10 Batch 3:  Loss: 0.660254716873169 Validation Accuracy: 0.6736000180244446\n",
      "Epoch 21, CIFAR-10 Batch 4:  Loss: 0.6543329358100891 Validation Accuracy: 0.6779999732971191\n",
      "Epoch 21, CIFAR-10 Batch 5:  Loss: 0.7203633785247803 Validation Accuracy: 0.6837999820709229\n",
      "Epoch 22, CIFAR-10 Batch 1:  Loss: 0.7908647656440735 Validation Accuracy: 0.6675999760627747\n",
      "Epoch 22, CIFAR-10 Batch 2:  Loss: 0.7217065691947937 Validation Accuracy: 0.6746000051498413\n",
      "Epoch 22, CIFAR-10 Batch 3:  Loss: 0.641998827457428 Validation Accuracy: 0.6741999983787537\n",
      "Epoch 22, CIFAR-10 Batch 4:  Loss: 0.6371031999588013 Validation Accuracy: 0.6808000206947327\n",
      "Epoch 22, CIFAR-10 Batch 5:  Loss: 0.7000268697738647 Validation Accuracy: 0.6883999705314636\n",
      "Epoch 23, CIFAR-10 Batch 1:  Loss: 0.7765800356864929 Validation Accuracy: 0.6710000038146973\n",
      "Epoch 23, CIFAR-10 Batch 2:  Loss: 0.7080604434013367 Validation Accuracy: 0.6769999861717224\n",
      "Epoch 23, CIFAR-10 Batch 3:  Loss: 0.6218445301055908 Validation Accuracy: 0.6801999807357788\n",
      "Epoch 23, CIFAR-10 Batch 4:  Loss: 0.623893141746521 Validation Accuracy: 0.6873999834060669\n",
      "Epoch 23, CIFAR-10 Batch 5:  Loss: 0.6791214942932129 Validation Accuracy: 0.6894000172615051\n",
      "Epoch 24, CIFAR-10 Batch 1:  Loss: 0.765565037727356 Validation Accuracy: 0.6741999983787537\n",
      "Epoch 24, CIFAR-10 Batch 2:  Loss: 0.6969034075737 Validation Accuracy: 0.680400013923645\n",
      "Epoch 24, CIFAR-10 Batch 3:  Loss: 0.6079235076904297 Validation Accuracy: 0.6827999949455261\n",
      "Epoch 24, CIFAR-10 Batch 4:  Loss: 0.6087832450866699 Validation Accuracy: 0.6886000037193298\n",
      "Epoch 24, CIFAR-10 Batch 5:  Loss: 0.6607646346092224 Validation Accuracy: 0.6917999982833862\n",
      "Epoch 25, CIFAR-10 Batch 1:  Loss: 0.7543279528617859 Validation Accuracy: 0.6740000247955322\n",
      "Epoch 25, CIFAR-10 Batch 2:  Loss: 0.6811177730560303 Validation Accuracy: 0.6848000288009644\n",
      "Epoch 25, CIFAR-10 Batch 3:  Loss: 0.5928143858909607 Validation Accuracy: 0.6827999949455261\n",
      "Epoch 25, CIFAR-10 Batch 4:  Loss: 0.5940001010894775 Validation Accuracy: 0.6895999908447266\n",
      "Epoch 25, CIFAR-10 Batch 5:  Loss: 0.6468412280082703 Validation Accuracy: 0.6935999989509583\n",
      "Epoch 26, CIFAR-10 Batch 1:  Loss: 0.7533558011054993 Validation Accuracy: 0.6725999712944031\n",
      "Epoch 26, CIFAR-10 Batch 2:  Loss: 0.6910774111747742 Validation Accuracy: 0.6772000193595886\n",
      "Epoch 26, CIFAR-10 Batch 3:  Loss: 0.5730369091033936 Validation Accuracy: 0.6881999969482422\n",
      "Epoch 26, CIFAR-10 Batch 4:  Loss: 0.5818885564804077 Validation Accuracy: 0.6891999840736389\n",
      "Epoch 26, CIFAR-10 Batch 5:  Loss: 0.6453489065170288 Validation Accuracy: 0.6894000172615051\n",
      "Epoch 27, CIFAR-10 Batch 1:  Loss: 0.7176756858825684 Validation Accuracy: 0.6833999752998352\n",
      "Epoch 27, CIFAR-10 Batch 2:  Loss: 0.6936537027359009 Validation Accuracy: 0.6710000038146973\n",
      "Epoch 27, CIFAR-10 Batch 3:  Loss: 0.6043608784675598 Validation Accuracy: 0.6751999855041504\n",
      "Epoch 27, CIFAR-10 Batch 4:  Loss: 0.5669089555740356 Validation Accuracy: 0.6948000192642212\n",
      "Epoch 27, CIFAR-10 Batch 5:  Loss: 0.6240959763526917 Validation Accuracy: 0.6952000260353088\n",
      "Epoch 28, CIFAR-10 Batch 1:  Loss: 0.6987716555595398 Validation Accuracy: 0.6881999969482422\n",
      "Epoch 28, CIFAR-10 Batch 2:  Loss: 0.6437122225761414 Validation Accuracy: 0.6881999969482422\n",
      "Epoch 28, CIFAR-10 Batch 3:  Loss: 0.5806612968444824 Validation Accuracy: 0.6800000071525574\n",
      "Epoch 28, CIFAR-10 Batch 4:  Loss: 0.5672154426574707 Validation Accuracy: 0.6898000240325928\n",
      "Epoch 28, CIFAR-10 Batch 5:  Loss: 0.6141406893730164 Validation Accuracy: 0.6916000247001648\n",
      "Epoch 29, CIFAR-10 Batch 1:  Loss: 0.661952555179596 Validation Accuracy: 0.6923999786376953\n",
      "Epoch 29, CIFAR-10 Batch 2:  Loss: 0.6271478533744812 Validation Accuracy: 0.6868000030517578\n",
      "Epoch 29, CIFAR-10 Batch 3:  Loss: 0.5614661574363708 Validation Accuracy: 0.6858000159263611\n",
      "Epoch 29, CIFAR-10 Batch 4:  Loss: 0.5537328720092773 Validation Accuracy: 0.6966000199317932\n",
      "Epoch 29, CIFAR-10 Batch 5:  Loss: 0.5998207330703735 Validation Accuracy: 0.6919999718666077\n",
      "Epoch 30, CIFAR-10 Batch 1:  Loss: 0.6551209688186646 Validation Accuracy: 0.6952000260353088\n",
      "Epoch 30, CIFAR-10 Batch 2:  Loss: 0.6105167269706726 Validation Accuracy: 0.6866000294685364\n",
      "Epoch 30, CIFAR-10 Batch 3:  Loss: 0.5467787981033325 Validation Accuracy: 0.6917999982833862\n",
      "Epoch 30, CIFAR-10 Batch 4:  Loss: 0.5365805625915527 Validation Accuracy: 0.6955999732017517\n",
      "Epoch 30, CIFAR-10 Batch 5:  Loss: 0.5839292407035828 Validation Accuracy: 0.6952000260353088\n",
      "Epoch 31, CIFAR-10 Batch 1:  Loss: 0.6454102396965027 Validation Accuracy: 0.6977999806404114\n",
      "Epoch 31, CIFAR-10 Batch 2:  Loss: 0.6005640029907227 Validation Accuracy: 0.6862000226974487\n",
      "Epoch 31, CIFAR-10 Batch 3:  Loss: 0.536537766456604 Validation Accuracy: 0.6901999711990356\n",
      "Epoch 31, CIFAR-10 Batch 4:  Loss: 0.5221861004829407 Validation Accuracy: 0.6977999806404114\n",
      "Epoch 31, CIFAR-10 Batch 5:  Loss: 0.570701539516449 Validation Accuracy: 0.6935999989509583\n",
      "Epoch 32, CIFAR-10 Batch 1:  Loss: 0.6324002742767334 Validation Accuracy: 0.6970000267028809\n",
      "Epoch 32, CIFAR-10 Batch 2:  Loss: 0.5887449979782104 Validation Accuracy: 0.6881999969482422\n",
      "Epoch 32, CIFAR-10 Batch 3:  Loss: 0.5240594148635864 Validation Accuracy: 0.6912000179290771\n",
      "Epoch 32, CIFAR-10 Batch 4:  Loss: 0.504867434501648 Validation Accuracy: 0.6991999745368958\n",
      "Epoch 32, CIFAR-10 Batch 5:  Loss: 0.5442919135093689 Validation Accuracy: 0.6958000063896179\n",
      "Epoch 33, CIFAR-10 Batch 1:  Loss: 0.621655285358429 Validation Accuracy: 0.6998000144958496\n",
      "Epoch 33, CIFAR-10 Batch 2:  Loss: 0.5751352310180664 Validation Accuracy: 0.6905999779701233\n",
      "Epoch 33, CIFAR-10 Batch 3:  Loss: 0.5118128061294556 Validation Accuracy: 0.6935999989509583\n",
      "Epoch 33, CIFAR-10 Batch 4:  Loss: 0.4907768964767456 Validation Accuracy: 0.7017999887466431\n",
      "Epoch 33, CIFAR-10 Batch 5:  Loss: 0.5232895612716675 Validation Accuracy: 0.6988000273704529\n",
      "Epoch 34, CIFAR-10 Batch 1:  Loss: 0.6072326302528381 Validation Accuracy: 0.7008000016212463\n",
      "Epoch 34, CIFAR-10 Batch 2:  Loss: 0.5620523691177368 Validation Accuracy: 0.6926000118255615\n",
      "Epoch 34, CIFAR-10 Batch 3:  Loss: 0.5028544068336487 Validation Accuracy: 0.692799985408783\n",
      "Epoch 34, CIFAR-10 Batch 4:  Loss: 0.47513699531555176 Validation Accuracy: 0.704800009727478\n",
      "Epoch 34, CIFAR-10 Batch 5:  Loss: 0.5131731033325195 Validation Accuracy: 0.6980000138282776\n",
      "Epoch 35, CIFAR-10 Batch 1:  Loss: 0.5970684885978699 Validation Accuracy: 0.699999988079071\n",
      "Epoch 35, CIFAR-10 Batch 2:  Loss: 0.5484341382980347 Validation Accuracy: 0.6937999725341797\n",
      "Epoch 35, CIFAR-10 Batch 3:  Loss: 0.4962470531463623 Validation Accuracy: 0.6913999915122986\n",
      "Epoch 35, CIFAR-10 Batch 4:  Loss: 0.4606076180934906 Validation Accuracy: 0.7053999900817871\n",
      "Epoch 35, CIFAR-10 Batch 5:  Loss: 0.49251484870910645 Validation Accuracy: 0.6977999806404114\n",
      "Epoch 36, CIFAR-10 Batch 1:  Loss: 0.5809040069580078 Validation Accuracy: 0.7003999948501587\n",
      "Epoch 36, CIFAR-10 Batch 2:  Loss: 0.5322895050048828 Validation Accuracy: 0.6962000131607056\n",
      "Epoch 36, CIFAR-10 Batch 3:  Loss: 0.4917689561843872 Validation Accuracy: 0.6899999976158142\n",
      "Epoch 36, CIFAR-10 Batch 4:  Loss: 0.4478788673877716 Validation Accuracy: 0.7062000036239624\n",
      "Epoch 36, CIFAR-10 Batch 5:  Loss: 0.4800265431404114 Validation Accuracy: 0.6980000138282776\n",
      "Epoch 37, CIFAR-10 Batch 1:  Loss: 0.5720511674880981 Validation Accuracy: 0.6976000070571899\n",
      "Epoch 37, CIFAR-10 Batch 2:  Loss: 0.5237352848052979 Validation Accuracy: 0.6949999928474426\n",
      "Epoch 37, CIFAR-10 Batch 3:  Loss: 0.4861676096916199 Validation Accuracy: 0.6930000185966492\n",
      "Epoch 37, CIFAR-10 Batch 4:  Loss: 0.4386387765407562 Validation Accuracy: 0.7075999975204468\n",
      "Epoch 37, CIFAR-10 Batch 5:  Loss: 0.46143898367881775 Validation Accuracy: 0.699400007724762\n",
      "Epoch 38, CIFAR-10 Batch 1:  Loss: 0.5603035688400269 Validation Accuracy: 0.6973999738693237\n",
      "Epoch 38, CIFAR-10 Batch 2:  Loss: 0.513124942779541 Validation Accuracy: 0.6985999941825867\n",
      "Epoch 38, CIFAR-10 Batch 3:  Loss: 0.4839937388896942 Validation Accuracy: 0.6876000165939331\n",
      "Epoch 38, CIFAR-10 Batch 4:  Loss: 0.43387341499328613 Validation Accuracy: 0.7031999826431274\n",
      "Epoch 38, CIFAR-10 Batch 5:  Loss: 0.4467228651046753 Validation Accuracy: 0.6998000144958496\n",
      "Epoch 39, CIFAR-10 Batch 1:  Loss: 0.5496894717216492 Validation Accuracy: 0.6952000260353088\n",
      "Epoch 39, CIFAR-10 Batch 2:  Loss: 0.49837014079093933 Validation Accuracy: 0.699999988079071\n",
      "Epoch 39, CIFAR-10 Batch 3:  Loss: 0.4772120416164398 Validation Accuracy: 0.6855999827384949\n",
      "Epoch 39, CIFAR-10 Batch 4:  Loss: 0.4216829240322113 Validation Accuracy: 0.7044000029563904\n",
      "Epoch 39, CIFAR-10 Batch 5:  Loss: 0.4425991177558899 Validation Accuracy: 0.696399986743927\n",
      "Epoch 40, CIFAR-10 Batch 1:  Loss: 0.5478933453559875 Validation Accuracy: 0.692799985408783\n",
      "Epoch 40, CIFAR-10 Batch 2:  Loss: 0.48931095004081726 Validation Accuracy: 0.7009999752044678\n",
      "Epoch 40, CIFAR-10 Batch 3:  Loss: 0.46210870146751404 Validation Accuracy: 0.6899999976158142\n",
      "Epoch 40, CIFAR-10 Batch 4:  Loss: 0.4092656075954437 Validation Accuracy: 0.7017999887466431\n",
      "Epoch 40, CIFAR-10 Batch 5:  Loss: 0.441449910402298 Validation Accuracy: 0.6970000267028809\n"
     ]
    }
   ],
   "source": [
    "\"\"\"\n",
    "DON'T MODIFY ANYTHING IN THIS CELL\n",
    "\"\"\"\n",
    "save_model_path = './image_classification'\n",
    "\n",
    "print('Training...')\n",
    "with tf.Session() as sess:\n",
    "    # Initializing the variables\n",
    "    sess.run(tf.global_variables_initializer())\n",
    "    \n",
    "    # Training cycle\n",
    "    for epoch in range(epochs):\n",
    "        # Loop over all batches\n",
    "        n_batches = 5\n",
    "        for batch_i in range(1, n_batches + 1):\n",
    "            for batch_features, batch_labels in helper.load_preprocess_training_batch(batch_i, batch_size):\n",
    "                train_neural_network(sess, optimizer, keep_probability, batch_features, batch_labels)\n",
    "            print('Epoch {:>2}, CIFAR-10 Batch {}:  '.format(epoch + 1, batch_i), end='')\n",
    "            print_stats(sess, batch_features, batch_labels, cost, accuracy)\n",
    "            \n",
    "    # Save Model\n",
    "    saver = tf.train.Saver()\n",
    "    save_path = saver.save(sess, save_model_path)"
   ]
  },
  {
   "cell_type": "markdown",
   "metadata": {},
   "source": [
    "\n",
    "\n",
    "\n",
    "\n",
    "\n",
    "\n",
    "\n",
    "\n",
    "\n",
    "\n",
    "\n",
    "\n",
    "\n",
    "\n",
    "\n",
    "\n",
    "\n",
    "\n",
    "\n",
    "\n",
    "\n",
    "\n",
    "\n",
    "\n",
    "\n",
    "# Checkpoint\n",
    "The model has been saved to disk.\n",
    "## Test Model\n",
    "Test your model against the test dataset.  This will be your final accuracy. You should have an accuracy greater than 50%. If you don't, keep tweaking the model architecture and parameters."
   ]
  },
  {
   "cell_type": "code",
   "execution_count": 26,
   "metadata": {},
   "outputs": [
    {
     "name": "stdout",
     "output_type": "stream",
     "text": [
      "INFO:tensorflow:Restoring parameters from ./image_classification\n",
      "Testing Accuracy: 0.6946346521377563\n",
      "\n"
     ]
    },
    {
     "data": {
      "image/png": "[encoded data removed]",
      "text/plain": [
       "<Figure size 432x288 with 8 Axes>"
      ]
     },
     "metadata": {
      "image/png": {
       "height": 319,
       "width": 355
      }
     },
     "output_type": "display_data"
    }
   ],
   "source": [
    "\"\"\"\n",
    "DON'T MODIFY ANYTHING IN THIS CELL\n",
    "\"\"\"\n",
    "%matplotlib inline\n",
    "%config InlineBackend.figure_format = 'retina'\n",
    "\n",
    "import tensorflow as tf\n",
    "import pickle\n",
    "import helper\n",
    "import random\n",
    "\n",
    "# Set batch size if not already set\n",
    "try:\n",
    "    if batch_size:\n",
    "        pass\n",
    "except NameError:\n",
    "    batch_size = 64\n",
    "\n",
    "save_model_path = './image_classification'\n",
    "n_samples = 4\n",
    "top_n_predictions = 3\n",
    "\n",
    "def test_model():\n",
    "    \"\"\"\n",
    "    Test the saved model against the test dataset\n",
    "    \"\"\"\n",
    "\n",
    "    test_features, test_labels = pickle.load(open('preprocess_training.p', mode='rb'))\n",
    "    loaded_graph = tf.Graph()\n",
    "\n",
    "    with tf.Session(graph=loaded_graph) as sess:\n",
    "        # Load model\n",
    "        loader = tf.train.import_meta_graph(save_model_path + '.meta')\n",
    "        loader.restore(sess, save_model_path)\n",
    "\n",
    "        # Get Tensors from loaded model\n",
    "        loaded_x = loaded_graph.get_tensor_by_name('x:0')\n",
    "        loaded_y = loaded_graph.get_tensor_by_name('y:0')\n",
    "        loaded_keep_prob = loaded_graph.get_tensor_by_name('keep_prob:0')\n",
    "        loaded_logits = loaded_graph.get_tensor_by_name('logits:0')\n",
    "        loaded_acc = loaded_graph.get_tensor_by_name('accuracy:0')\n",
    "        \n",
    "        # Get accuracy in batches for memory limitations\n",
    "        test_batch_acc_total = 0\n",
    "        test_batch_count = 0\n",
    "        \n",
    "        for train_feature_batch, train_label_batch in helper.batch_features_labels(test_features, test_labels, batch_size):\n",
    "            test_batch_acc_total += sess.run(\n",
    "                loaded_acc,\n",
    "                feed_dict={loaded_x: train_feature_batch, loaded_y: train_label_batch, loaded_keep_prob: 1.0})\n",
    "            test_batch_count += 1\n",
    "\n",
    "        print('Testing Accuracy: {}\\n'.format(test_batch_acc_total/test_batch_count))\n",
    "\n",
    "        # Print Random Samples\n",
    "        random_test_features, random_test_labels = tuple(zip(*random.sample(list(zip(test_features, test_labels)), n_samples)))\n",
    "        random_test_predictions = sess.run(\n",
    "            tf.nn.top_k(tf.nn.softmax(loaded_logits), top_n_predictions),\n",
    "            feed_dict={loaded_x: random_test_features, loaded_y: random_test_labels, loaded_keep_prob: 1.0})\n",
    "        helper.display_image_predictions(random_test_features, random_test_labels, random_test_predictions)\n",
    "\n",
    "\n",
    "test_model()"
   ]
  },
  {
   "cell_type": "markdown",
   "metadata": {},
   "source": [
    "## Why 50-80% Accuracy?\n",
    "You might be wondering why you can't get an accuracy any higher. First things first, 50% isn't bad for a simple CNN.  Pure guessing would get you 10% accuracy. That's because there are many more techniques that can be applied to your model and we recemmond that once you are done with this project, you explore!\n",
    "\n",
    "## Submitting This Project\n",
    "When submitting this project, make sure to run all the cells before saving the notebook.  Save the notebook file as \"image_classification.ipynb\" and save it as a HTML file under \"File\" -> \"Download as\".  Include the \"helper.py\" and \"problem_unittests.py\" files in your submission."
   ]
  }
 ],
 "metadata": {
  "kernelspec": {
   "display_name": "Python 3",
   "language": "python",
   "name": "python3"
  },
  "language_info": {
   "codemirror_mode": {
    "name": "ipython",
    "version": 3
   },
   "file_extension": ".py",
   "mimetype": "text/x-python",
   "name": "python",
   "nbconvert_exporter": "python",
   "pygments_lexer": "ipython3",
   "version": "3.6.5"
  }
 },
 "nbformat": 4,
 "nbformat_minor": 2
}
